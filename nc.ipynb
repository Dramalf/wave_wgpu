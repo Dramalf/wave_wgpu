{
 "cells": [
  {
   "cell_type": "code",
   "execution_count": 24,
   "metadata": {},
   "outputs": [],
   "source": [
    "import numpy as np\n",
    "from netCDF4 import Dataset\n",
    "\n",
    "width = 40\n",
    "height = 40\n",
    "num_frames = 100\n",
    "data = np.fromfile(\"src/all_frames.bin\", dtype=np.float32)\n",
    "data = data.reshape(( num_frames,height, width))\n",
    "\n",
    "with Dataset(\"output_wasm.nc\", \"w\", format=\"NETCDF4\") as ds:\n",
    "\n",
    "    ds.createDimension(\"frame\", num_frames)\n",
    "    ds.createDimension(\"y\", height)\n",
    "    ds.createDimension(\"x\", width)\n",
    "\n",
    "    \n",
    "    var = ds.createVariable(\"wave\", np.float32, (\"frame\",\"y\", \"x\"))\n",
    "    var[:, :, :] = data\n"
   ]
  }
 ],
 "metadata": {
  "kernelspec": {
   "display_name": "cse258",
   "language": "python",
   "name": "python3"
  },
  "language_info": {
   "codemirror_mode": {
    "name": "ipython",
    "version": 3
   },
   "file_extension": ".py",
   "mimetype": "text/x-python",
   "name": "python",
   "nbconvert_exporter": "python",
   "pygments_lexer": "ipython3",
   "version": "3.9.19"
  }
 },
 "nbformat": 4,
 "nbformat_minor": 2
}
